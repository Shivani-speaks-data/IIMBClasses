{
  "cells": [
    {
      "cell_type": "markdown",
      "metadata": {
        "id": "_UfJYvjLh5NW"
      },
      "source": [
        "# IMPROVING LEAD GENERATION AT EUREKA FORBES \n",
        "\n",
        "Eureka Forbes, part of the conglomerate Shapoorji Pallonji Group, is currently one of the world's largest direct sales company known for its water purifier brand Aquaguard with a turnover of more than INR 30 billion. The company is estimated to have a customer base of 20 million across 53 countries. The company's distribution channel includes a direct sales force of dealers, institutional channels, business partner network and a rural channel across 1500 cities and towns in India. The company's previous customer acquisition model ensured that interested customers were individually visited for demonstration of the product and for completion of purchase. While this made the company a household name, it kept the acquisition costs on the higher side. With the imminence of online retailing, the brand had been taking steps to establish their digital presence and build a stable online sales channel. The company website (www.eurekaforbes.com) attracts online traffic from various sources such as organic searches, google ads, email campaigns, etc. The company has started to use this click stream data to build a rich database of visitor acquisition factors and behavioral variables such as session duration, device category, pages visited, lead forms filled, etc. using the Google Analytics Reporting API. The company identifies these visitors as potential customers and is actively deploying remarketing campaigns with optimism to convert them. \n",
        "\n",
        "**Source**: https://store.hbr.org/product/improving-lead-generation-at-eureka-forbes-using-machine-learning-algorithms/IMB779\n",
        "\n",
        "The business goal is clearly defined for the company – they want to target potential customers while keeping\n",
        "the cost per lead (CPL) as low as possible. For Kashif Kudalkar, the Deputy General Manager for Digital\n",
        "Marketing and Analytics, the task is to achieve better conversion at lower costs. This is achievable when\n",
        "the target audience is narrowed down to a sizeable number for remarketing campaigns. Kashif wants to use\n",
        "the collected behavioral and visitor data to achieve the following objectives:\n",
        "\n",
        "1. Find the target audience with a high probability of submitting a lead and eventually converting.\n",
        "2. Segment the visitor audience into buckets based on their activity for designing better advertising and\n",
        "remarketing campaigns.\n",
        "3. Finally, have a probability score that can be used to run a personalized campaign for users/segments"
      ]
    },
    {
      "cell_type": "markdown",
      "metadata": {
        "id": "G63OhUlih5Na"
      },
      "source": [
        "## Loading Dataset"
      ]
    },
    {
      "cell_type": "code",
      "execution_count": 1,
      "metadata": {
        "id": "qNreGEgmh5Nb"
      },
      "outputs": [],
      "source": [
        "import warnings\n",
        "warnings.filterwarnings('ignore')"
      ]
    },
    {
      "cell_type": "code",
      "execution_count": 2,
      "metadata": {
        "id": "W4S1P_cuh5Nc"
      },
      "outputs": [],
      "source": [
        "import pandas as pd\n",
        "import numpy as np\n",
        "import matplotlib.pyplot as plt\n",
        "import seaborn as sn"
      ]
    },
    {
      "cell_type": "code",
      "execution_count": 3,
      "metadata": {
        "id": "Zysy0zCzh5Nc"
      },
      "outputs": [],
      "source": [
        "eureka_df_v3 = pd.read_csv('https://raw.githubusercontent.com/manaranjanp/IIMBClasses/main/classification/eureka_encoded_csv.zip')"
      ]
    },
    {
      "cell_type": "code",
      "execution_count": 4,
      "metadata": {
        "colab": {
          "base_uri": "https://localhost:8080/",
          "height": 317
        },
        "id": "GXkwX4Z2h5Nc",
        "outputId": "0a537962-2d7e-42bd-dfe8-0dc270d0b9df"
      },
      "outputs": [
        {
          "output_type": "execute_result",
          "data": {
            "text/plain": [
              "   DemoReqPg_CallClicks_evt_count  air_purifier_page_top  bookdemo_in_7days  \\\n",
              "0                             0.0                    0.0                  0   \n",
              "1                             0.0                    0.0                  0   \n",
              "2                             0.0                    0.0                  0   \n",
              "3                             0.0                    0.0                  0   \n",
              "4                             1.0                    0.0                  0   \n",
              "\n",
              "   bounces  checkout_page_top  contactus_top  customer_service_amc_login_top  \\\n",
              "0      0.0                0.0            0.0                             0.0   \n",
              "1      0.0                0.0            0.0                             0.0   \n",
              "2      0.0                0.0            0.0                             0.0   \n",
              "3      0.0                0.0            0.0                            64.0   \n",
              "4      0.0                0.0            0.0                             0.0   \n",
              "\n",
              "   customer_service_request_login_top  demo_page_top  dsls  ...  \\\n",
              "0                                 0.0            0.0     0  ...   \n",
              "1                                 0.0            7.0     6  ...   \n",
              "2                                 0.0            0.0     0  ...   \n",
              "3                                 0.0           49.0     0  ...   \n",
              "4                                 0.0           36.0     0  ...   \n",
              "\n",
              "   region_Rajasthan  region_Tamil Nadu  region_Telangana  \\\n",
              "0                 0                  0                 1   \n",
              "1                 0                  0                 0   \n",
              "2                 0                  1                 0   \n",
              "3                 0                  0                 0   \n",
              "4                 0                  0                 0   \n",
              "\n",
              "   region_Uttar Pradesh  region_Uttarakhand  region_West Bengal  \\\n",
              "0                     0                   0                   0   \n",
              "1                     0                   0                   0   \n",
              "2                     0                   0                   0   \n",
              "3                     0                   0                   0   \n",
              "4                     0                   0                   0   \n",
              "\n",
              "   sourceMediumFinal_facebook_social  sourceMediumFinal_google_cpc  \\\n",
              "0                                  0                             0   \n",
              "1                                  0                             1   \n",
              "2                                  0                             0   \n",
              "3                                  0                             1   \n",
              "4                                  0                             1   \n",
              "\n",
              "   sourceMediumFinal_google_organic  sourceMediumFinal_referral  \n",
              "0                                 1                           0  \n",
              "1                                 0                           0  \n",
              "2                                 1                           0  \n",
              "3                                 0                           0  \n",
              "4                                 0                           0  \n",
              "\n",
              "[5 rows x 75 columns]"
            ],
            "text/html": [
              "\n",
              "  <div id=\"df-b3962ab9-c2ce-41df-9bd9-16463fc164a4\">\n",
              "    <div class=\"colab-df-container\">\n",
              "      <div>\n",
              "<style scoped>\n",
              "    .dataframe tbody tr th:only-of-type {\n",
              "        vertical-align: middle;\n",
              "    }\n",
              "\n",
              "    .dataframe tbody tr th {\n",
              "        vertical-align: top;\n",
              "    }\n",
              "\n",
              "    .dataframe thead th {\n",
              "        text-align: right;\n",
              "    }\n",
              "</style>\n",
              "<table border=\"1\" class=\"dataframe\">\n",
              "  <thead>\n",
              "    <tr style=\"text-align: right;\">\n",
              "      <th></th>\n",
              "      <th>DemoReqPg_CallClicks_evt_count</th>\n",
              "      <th>air_purifier_page_top</th>\n",
              "      <th>bookdemo_in_7days</th>\n",
              "      <th>bounces</th>\n",
              "      <th>checkout_page_top</th>\n",
              "      <th>contactus_top</th>\n",
              "      <th>customer_service_amc_login_top</th>\n",
              "      <th>customer_service_request_login_top</th>\n",
              "      <th>demo_page_top</th>\n",
              "      <th>dsls</th>\n",
              "      <th>...</th>\n",
              "      <th>region_Rajasthan</th>\n",
              "      <th>region_Tamil Nadu</th>\n",
              "      <th>region_Telangana</th>\n",
              "      <th>region_Uttar Pradesh</th>\n",
              "      <th>region_Uttarakhand</th>\n",
              "      <th>region_West Bengal</th>\n",
              "      <th>sourceMediumFinal_facebook_social</th>\n",
              "      <th>sourceMediumFinal_google_cpc</th>\n",
              "      <th>sourceMediumFinal_google_organic</th>\n",
              "      <th>sourceMediumFinal_referral</th>\n",
              "    </tr>\n",
              "  </thead>\n",
              "  <tbody>\n",
              "    <tr>\n",
              "      <th>0</th>\n",
              "      <td>0.0</td>\n",
              "      <td>0.0</td>\n",
              "      <td>0</td>\n",
              "      <td>0.0</td>\n",
              "      <td>0.0</td>\n",
              "      <td>0.0</td>\n",
              "      <td>0.0</td>\n",
              "      <td>0.0</td>\n",
              "      <td>0.0</td>\n",
              "      <td>0</td>\n",
              "      <td>...</td>\n",
              "      <td>0</td>\n",
              "      <td>0</td>\n",
              "      <td>1</td>\n",
              "      <td>0</td>\n",
              "      <td>0</td>\n",
              "      <td>0</td>\n",
              "      <td>0</td>\n",
              "      <td>0</td>\n",
              "      <td>1</td>\n",
              "      <td>0</td>\n",
              "    </tr>\n",
              "    <tr>\n",
              "      <th>1</th>\n",
              "      <td>0.0</td>\n",
              "      <td>0.0</td>\n",
              "      <td>0</td>\n",
              "      <td>0.0</td>\n",
              "      <td>0.0</td>\n",
              "      <td>0.0</td>\n",
              "      <td>0.0</td>\n",
              "      <td>0.0</td>\n",
              "      <td>7.0</td>\n",
              "      <td>6</td>\n",
              "      <td>...</td>\n",
              "      <td>0</td>\n",
              "      <td>0</td>\n",
              "      <td>0</td>\n",
              "      <td>0</td>\n",
              "      <td>0</td>\n",
              "      <td>0</td>\n",
              "      <td>0</td>\n",
              "      <td>1</td>\n",
              "      <td>0</td>\n",
              "      <td>0</td>\n",
              "    </tr>\n",
              "    <tr>\n",
              "      <th>2</th>\n",
              "      <td>0.0</td>\n",
              "      <td>0.0</td>\n",
              "      <td>0</td>\n",
              "      <td>0.0</td>\n",
              "      <td>0.0</td>\n",
              "      <td>0.0</td>\n",
              "      <td>0.0</td>\n",
              "      <td>0.0</td>\n",
              "      <td>0.0</td>\n",
              "      <td>0</td>\n",
              "      <td>...</td>\n",
              "      <td>0</td>\n",
              "      <td>1</td>\n",
              "      <td>0</td>\n",
              "      <td>0</td>\n",
              "      <td>0</td>\n",
              "      <td>0</td>\n",
              "      <td>0</td>\n",
              "      <td>0</td>\n",
              "      <td>1</td>\n",
              "      <td>0</td>\n",
              "    </tr>\n",
              "    <tr>\n",
              "      <th>3</th>\n",
              "      <td>0.0</td>\n",
              "      <td>0.0</td>\n",
              "      <td>0</td>\n",
              "      <td>0.0</td>\n",
              "      <td>0.0</td>\n",
              "      <td>0.0</td>\n",
              "      <td>64.0</td>\n",
              "      <td>0.0</td>\n",
              "      <td>49.0</td>\n",
              "      <td>0</td>\n",
              "      <td>...</td>\n",
              "      <td>0</td>\n",
              "      <td>0</td>\n",
              "      <td>0</td>\n",
              "      <td>0</td>\n",
              "      <td>0</td>\n",
              "      <td>0</td>\n",
              "      <td>0</td>\n",
              "      <td>1</td>\n",
              "      <td>0</td>\n",
              "      <td>0</td>\n",
              "    </tr>\n",
              "    <tr>\n",
              "      <th>4</th>\n",
              "      <td>1.0</td>\n",
              "      <td>0.0</td>\n",
              "      <td>0</td>\n",
              "      <td>0.0</td>\n",
              "      <td>0.0</td>\n",
              "      <td>0.0</td>\n",
              "      <td>0.0</td>\n",
              "      <td>0.0</td>\n",
              "      <td>36.0</td>\n",
              "      <td>0</td>\n",
              "      <td>...</td>\n",
              "      <td>0</td>\n",
              "      <td>0</td>\n",
              "      <td>0</td>\n",
              "      <td>0</td>\n",
              "      <td>0</td>\n",
              "      <td>0</td>\n",
              "      <td>0</td>\n",
              "      <td>1</td>\n",
              "      <td>0</td>\n",
              "      <td>0</td>\n",
              "    </tr>\n",
              "  </tbody>\n",
              "</table>\n",
              "<p>5 rows × 75 columns</p>\n",
              "</div>\n",
              "      <button class=\"colab-df-convert\" onclick=\"convertToInteractive('df-b3962ab9-c2ce-41df-9bd9-16463fc164a4')\"\n",
              "              title=\"Convert this dataframe to an interactive table.\"\n",
              "              style=\"display:none;\">\n",
              "        \n",
              "  <svg xmlns=\"http://www.w3.org/2000/svg\" height=\"24px\"viewBox=\"0 0 24 24\"\n",
              "       width=\"24px\">\n",
              "    <path d=\"M0 0h24v24H0V0z\" fill=\"none\"/>\n",
              "    <path d=\"M18.56 5.44l.94 2.06.94-2.06 2.06-.94-2.06-.94-.94-2.06-.94 2.06-2.06.94zm-11 1L8.5 8.5l.94-2.06 2.06-.94-2.06-.94L8.5 2.5l-.94 2.06-2.06.94zm10 10l.94 2.06.94-2.06 2.06-.94-2.06-.94-.94-2.06-.94 2.06-2.06.94z\"/><path d=\"M17.41 7.96l-1.37-1.37c-.4-.4-.92-.59-1.43-.59-.52 0-1.04.2-1.43.59L10.3 9.45l-7.72 7.72c-.78.78-.78 2.05 0 2.83L4 21.41c.39.39.9.59 1.41.59.51 0 1.02-.2 1.41-.59l7.78-7.78 2.81-2.81c.8-.78.8-2.07 0-2.86zM5.41 20L4 18.59l7.72-7.72 1.47 1.35L5.41 20z\"/>\n",
              "  </svg>\n",
              "      </button>\n",
              "      \n",
              "  <style>\n",
              "    .colab-df-container {\n",
              "      display:flex;\n",
              "      flex-wrap:wrap;\n",
              "      gap: 12px;\n",
              "    }\n",
              "\n",
              "    .colab-df-convert {\n",
              "      background-color: #E8F0FE;\n",
              "      border: none;\n",
              "      border-radius: 50%;\n",
              "      cursor: pointer;\n",
              "      display: none;\n",
              "      fill: #1967D2;\n",
              "      height: 32px;\n",
              "      padding: 0 0 0 0;\n",
              "      width: 32px;\n",
              "    }\n",
              "\n",
              "    .colab-df-convert:hover {\n",
              "      background-color: #E2EBFA;\n",
              "      box-shadow: 0px 1px 2px rgba(60, 64, 67, 0.3), 0px 1px 3px 1px rgba(60, 64, 67, 0.15);\n",
              "      fill: #174EA6;\n",
              "    }\n",
              "\n",
              "    [theme=dark] .colab-df-convert {\n",
              "      background-color: #3B4455;\n",
              "      fill: #D2E3FC;\n",
              "    }\n",
              "\n",
              "    [theme=dark] .colab-df-convert:hover {\n",
              "      background-color: #434B5C;\n",
              "      box-shadow: 0px 1px 3px 1px rgba(0, 0, 0, 0.15);\n",
              "      filter: drop-shadow(0px 1px 2px rgba(0, 0, 0, 0.3));\n",
              "      fill: #FFFFFF;\n",
              "    }\n",
              "  </style>\n",
              "\n",
              "      <script>\n",
              "        const buttonEl =\n",
              "          document.querySelector('#df-b3962ab9-c2ce-41df-9bd9-16463fc164a4 button.colab-df-convert');\n",
              "        buttonEl.style.display =\n",
              "          google.colab.kernel.accessAllowed ? 'block' : 'none';\n",
              "\n",
              "        async function convertToInteractive(key) {\n",
              "          const element = document.querySelector('#df-b3962ab9-c2ce-41df-9bd9-16463fc164a4');\n",
              "          const dataTable =\n",
              "            await google.colab.kernel.invokeFunction('convertToInteractive',\n",
              "                                                     [key], {});\n",
              "          if (!dataTable) return;\n",
              "\n",
              "          const docLinkHtml = 'Like what you see? Visit the ' +\n",
              "            '<a target=\"_blank\" href=https://colab.research.google.com/notebooks/data_table.ipynb>data table notebook</a>'\n",
              "            + ' to learn more about interactive tables.';\n",
              "          element.innerHTML = '';\n",
              "          dataTable['output_type'] = 'display_data';\n",
              "          await google.colab.output.renderOutput(dataTable, element);\n",
              "          const docLink = document.createElement('div');\n",
              "          docLink.innerHTML = docLinkHtml;\n",
              "          element.appendChild(docLink);\n",
              "        }\n",
              "      </script>\n",
              "    </div>\n",
              "  </div>\n",
              "  "
            ]
          },
          "metadata": {},
          "execution_count": 4
        }
      ],
      "source": [
        "eureka_df_v3.head(5)"
      ]
    },
    {
      "cell_type": "code",
      "execution_count": 5,
      "metadata": {
        "colab": {
          "base_uri": "https://localhost:8080/"
        },
        "id": "0jWeU6j2h5Nd",
        "outputId": "b2df0682-4e74-49ca-f96c-b508d0789b5a"
      },
      "outputs": [
        {
          "output_type": "stream",
          "name": "stdout",
          "text": [
            "<class 'pandas.core.frame.DataFrame'>\n",
            "RangeIndex: 682037 entries, 0 to 682036\n",
            "Data columns (total 75 columns):\n",
            " #   Column                                  Non-Null Count   Dtype  \n",
            "---  ------                                  --------------   -----  \n",
            " 0   DemoReqPg_CallClicks_evt_count          682037 non-null  float64\n",
            " 1   air_purifier_page_top                   682037 non-null  float64\n",
            " 2   bookdemo_in_7days                       682037 non-null  int64  \n",
            " 3   bounces                                 682037 non-null  float64\n",
            " 4   checkout_page_top                       682037 non-null  float64\n",
            " 5   contactus_top                           682037 non-null  float64\n",
            " 6   customer_service_amc_login_top          682037 non-null  float64\n",
            " 7   customer_service_request_login_top      682037 non-null  float64\n",
            " 8   demo_page_top                           682037 non-null  float64\n",
            " 9   dsls                                    682037 non-null  int64  \n",
            " 10  fired_DemoReqPg_CallClicks_evt          682037 non-null  float64\n",
            " 11  fired_help_me_buy_evt                   682037 non-null  float64\n",
            " 12  fired_phone_clicks_evt                  682037 non-null  float64\n",
            " 13  goal3Completions                        682037 non-null  float64\n",
            " 14  goal4Completions                        682037 non-null  float64\n",
            " 15  goal7Completions                        682037 non-null  float64\n",
            " 16  help_me_buy_evt_count                   682037 non-null  float64\n",
            " 17  newUser                                 682037 non-null  int64  \n",
            " 18  offer_page_top                          682037 non-null  float64\n",
            " 19  pageviews                               682037 non-null  float64\n",
            " 20  paid                                    682037 non-null  int64  \n",
            " 21  phone_clicks_evt_count                  682037 non-null  float64\n",
            " 22  security_solutions_page_top             682037 non-null  float64\n",
            " 23  sessionDuration                         682037 non-null  float64\n",
            " 24  sessions                                682037 non-null  float64\n",
            " 25  storelocator_top                        682037 non-null  float64\n",
            " 26  successbookdemo_top                     682037 non-null  float64\n",
            " 27  vacuum_cleaner_page_top                 682037 non-null  float64\n",
            " 28  visited_air_purifier_page               682037 non-null  float64\n",
            " 29  visited_checkout_page                   682037 non-null  float64\n",
            " 30  visited_contactus                       682037 non-null  float64\n",
            " 31  visited_customer_service_amc_login      682037 non-null  float64\n",
            " 32  visited_customer_service_request_login  682037 non-null  float64\n",
            " 33  visited_demo_page                       682037 non-null  float64\n",
            " 34  visited_offer_page                      682037 non-null  float64\n",
            " 35  visited_security_solutions_page         682037 non-null  float64\n",
            " 36  visited_storelocator                    682037 non-null  float64\n",
            " 37  visited_successbookdemo                 682037 non-null  float64\n",
            " 38  visited_vacuum_cleaner_page             682037 non-null  float64\n",
            " 39  visited_water_purifier_page             682037 non-null  float64\n",
            " 40  water_purifier_page_top                 682037 non-null  float64\n",
            " 41  callclick_in_7days                      682037 non-null  int64  \n",
            " 42  converted                               682037 non-null  int64  \n",
            " 43  device_mobile                           682037 non-null  int64  \n",
            " 44  device_tablet                           682037 non-null  int64  \n",
            " 45  region_Andhra Pradesh                   682037 non-null  int64  \n",
            " 46  region_Assam                            682037 non-null  int64  \n",
            " 47  region_Bihar                            682037 non-null  int64  \n",
            " 48  region_Chandigarh                       682037 non-null  int64  \n",
            " 49  region_Chhattisgarh                     682037 non-null  int64  \n",
            " 50  region_Delhi                            682037 non-null  int64  \n",
            " 51  region_Gujarat                          682037 non-null  int64  \n",
            " 52  region_Haryana                          682037 non-null  int64  \n",
            " 53  region_Himachal Pradesh                 682037 non-null  int64  \n",
            " 54  region_Jammu and Kashmir                682037 non-null  int64  \n",
            " 55  region_Jharkhand                        682037 non-null  int64  \n",
            " 56  region_Karnataka                        682037 non-null  int64  \n",
            " 57  region_Kerala                           682037 non-null  int64  \n",
            " 58  region_Madhya Pradesh                   682037 non-null  int64  \n",
            " 59  region_Maharashtra                      682037 non-null  int64  \n",
            " 60  region_Manipur                          682037 non-null  int64  \n",
            " 61  region_Michigan                         682037 non-null  int64  \n",
            " 62  region_Nagaland                         682037 non-null  int64  \n",
            " 63  region_Odisha                           682037 non-null  int64  \n",
            " 64  region_Punjab                           682037 non-null  int64  \n",
            " 65  region_Rajasthan                        682037 non-null  int64  \n",
            " 66  region_Tamil Nadu                       682037 non-null  int64  \n",
            " 67  region_Telangana                        682037 non-null  int64  \n",
            " 68  region_Uttar Pradesh                    682037 non-null  int64  \n",
            " 69  region_Uttarakhand                      682037 non-null  int64  \n",
            " 70  region_West Bengal                      682037 non-null  int64  \n",
            " 71  sourceMediumFinal_facebook_social       682037 non-null  int64  \n",
            " 72  sourceMediumFinal_google_cpc            682037 non-null  int64  \n",
            " 73  sourceMediumFinal_google_organic        682037 non-null  int64  \n",
            " 74  sourceMediumFinal_referral              682037 non-null  int64  \n",
            "dtypes: float64(37), int64(38)\n",
            "memory usage: 390.3 MB\n"
          ]
        }
      ],
      "source": [
        "eureka_df_v3.info()"
      ]
    },
    {
      "cell_type": "code",
      "execution_count": 6,
      "metadata": {
        "colab": {
          "base_uri": "https://localhost:8080/"
        },
        "id": "CqHHtoFSh5Ne",
        "outputId": "4f7f7a16-80a5-4d10-95a3-c612f7d7403b"
      },
      "outputs": [
        {
          "output_type": "execute_result",
          "data": {
            "text/plain": [
              "array([0, 1])"
            ]
          },
          "metadata": {},
          "execution_count": 6
        }
      ],
      "source": [
        "eureka_df_v3.converted.unique()"
      ]
    },
    {
      "cell_type": "code",
      "execution_count": 7,
      "metadata": {
        "colab": {
          "base_uri": "https://localhost:8080/"
        },
        "id": "aqy6bB5Hh5Ne",
        "outputId": "57eb46c7-3c47-4f4d-e56e-f3c80457462f"
      },
      "outputs": [
        {
          "output_type": "execute_result",
          "data": {
            "text/plain": [
              "0    679322\n",
              "1      2715\n",
              "Name: converted, dtype: int64"
            ]
          },
          "metadata": {},
          "execution_count": 7
        }
      ],
      "source": [
        "eureka_df_v3.converted.value_counts()"
      ]
    },
    {
      "cell_type": "markdown",
      "metadata": {
        "id": "-mBK3Ifih5Nf"
      },
      "source": [
        "## All Features"
      ]
    },
    {
      "cell_type": "code",
      "execution_count": 8,
      "metadata": {
        "id": "av0HbHShh5Nf"
      },
      "outputs": [],
      "source": [
        "X_features = list(eureka_df_v3.columns)\n",
        "X_features.remove('converted')"
      ]
    },
    {
      "cell_type": "markdown",
      "metadata": {
        "id": "IS2vU7muh5Ng"
      },
      "source": [
        "## Splitting Dataset"
      ]
    },
    {
      "cell_type": "code",
      "execution_count": 9,
      "metadata": {
        "id": "Docn4LzNh5Ng"
      },
      "outputs": [],
      "source": [
        "from sklearn.model_selection import train_test_split"
      ]
    },
    {
      "cell_type": "code",
      "execution_count": 10,
      "metadata": {
        "id": "S5blJFDFh5Ng"
      },
      "outputs": [],
      "source": [
        "train_set_0, test_set_0 = train_test_split(eureka_df_v3[eureka_df_v3.converted == 0],\n",
        "                                       train_size = 0.99)\n",
        "\n",
        "train_set_1, test_set_1 = train_test_split(eureka_df_v3[eureka_df_v3.converted == 1],\n",
        "                                       train_size = 0.8)"
      ]
    },
    {
      "cell_type": "code",
      "execution_count": 11,
      "metadata": {
        "id": "PmXDkz-7h5Nh"
      },
      "outputs": [],
      "source": [
        "train_set = pd.concat([train_set_0, train_set_1])\n",
        "test_set = pd.concat([test_set_0, test_set_1])"
      ]
    },
    {
      "cell_type": "code",
      "execution_count": 12,
      "metadata": {
        "colab": {
          "base_uri": "https://localhost:8080/"
        },
        "id": "5ldupZL2h5Nh",
        "outputId": "f8d4ab12-f0fe-439c-b086-0774df462dc1"
      },
      "outputs": [
        {
          "output_type": "execute_result",
          "data": {
            "text/plain": [
              "0    672528\n",
              "1      2172\n",
              "Name: converted, dtype: int64"
            ]
          },
          "metadata": {},
          "execution_count": 12
        }
      ],
      "source": [
        "train_set.converted.value_counts()"
      ]
    },
    {
      "cell_type": "code",
      "execution_count": 13,
      "metadata": {
        "colab": {
          "base_uri": "https://localhost:8080/"
        },
        "id": "FccTW3DOh5Nh",
        "outputId": "292dd7b4-b95a-461d-d8da-cc4ccedceac0"
      },
      "outputs": [
        {
          "output_type": "execute_result",
          "data": {
            "text/plain": [
              "0    6794\n",
              "1     543\n",
              "Name: converted, dtype: int64"
            ]
          },
          "metadata": {},
          "execution_count": 13
        }
      ],
      "source": [
        "test_set.converted.value_counts()"
      ]
    },
    {
      "cell_type": "markdown",
      "metadata": {
        "id": "6ui6YoHbh5Nh"
      },
      "source": [
        "## Resamping to create balanced dataset"
      ]
    },
    {
      "cell_type": "code",
      "execution_count": 14,
      "metadata": {
        "id": "8wu29jCfh5Ni"
      },
      "outputs": [],
      "source": [
        "from sklearn.utils import resample, shuffle"
      ]
    },
    {
      "cell_type": "code",
      "execution_count": 15,
      "metadata": {
        "id": "w7kDw_5zh5Ni"
      },
      "outputs": [],
      "source": [
        "train_label_1 = resample(train_set[train_set.converted == 1],\n",
        "                             replace = True,\n",
        "                             n_samples=50000)\n",
        "\n",
        "train_label_0 = resample(train_set[train_set.converted == 0],\n",
        "                             replace = False,\n",
        "                             n_samples=50000)  \n",
        "\n",
        "#train_label_0 = train_set[train_set.converted == 0]\n"
      ]
    },
    {
      "cell_type": "code",
      "execution_count": 16,
      "metadata": {
        "id": "c8kPmlDfh5Ni"
      },
      "outputs": [],
      "source": [
        "# Combine majority class with upsampled minority class\n",
        "train_set_resampled = pd.concat([train_label_1, train_label_0])"
      ]
    },
    {
      "cell_type": "code",
      "execution_count": 17,
      "metadata": {
        "id": "6JA0mU2Sh5Ni"
      },
      "outputs": [],
      "source": [
        "train_set_resampled = shuffle(train_set_resampled)"
      ]
    },
    {
      "cell_type": "code",
      "execution_count": 18,
      "metadata": {
        "colab": {
          "base_uri": "https://localhost:8080/"
        },
        "id": "oaBFCYMRh5Ni",
        "outputId": "26fc5961-5809-45a5-94c5-7de81f66c839"
      },
      "outputs": [
        {
          "output_type": "execute_result",
          "data": {
            "text/plain": [
              "1    50000\n",
              "0    50000\n",
              "Name: converted, dtype: int64"
            ]
          },
          "metadata": {},
          "execution_count": 18
        }
      ],
      "source": [
        "train_set_resampled.converted.value_counts()"
      ]
    },
    {
      "cell_type": "markdown",
      "metadata": {
        "id": "fSUa7ON3h5Nj"
      },
      "source": [
        "## Adapative Boosting\n",
        "\n",
        "### Building the Model"
      ]
    },
    {
      "cell_type": "code",
      "execution_count": 19,
      "metadata": {
        "id": "ISJQqGyVh5Nj"
      },
      "outputs": [],
      "source": [
        "from sklearn.tree import DecisionTreeClassifier\n",
        "from sklearn.ensemble import AdaBoostClassifier"
      ]
    },
    {
      "cell_type": "code",
      "execution_count": 21,
      "metadata": {
        "id": "nZb-Mfxsh5Nj"
      },
      "outputs": [],
      "source": [
        "adaboost_clf = AdaBoostClassifier(DecisionTreeClassifier(max_depth=1), \n",
        "                                  n_estimators = 100)"
      ]
    },
    {
      "cell_type": "code",
      "execution_count": 22,
      "metadata": {
        "colab": {
          "base_uri": "https://localhost:8080/"
        },
        "id": "cbiKagGch5Nj",
        "outputId": "9af7f751-2048-4784-accf-3429f65c15a7"
      },
      "outputs": [
        {
          "output_type": "execute_result",
          "data": {
            "text/plain": [
              "AdaBoostClassifier(base_estimator=DecisionTreeClassifier(max_depth=1),\n",
              "                   n_estimators=100)"
            ]
          },
          "metadata": {},
          "execution_count": 22
        }
      ],
      "source": [
        "adaboost_clf.fit(train_set_resampled[X_features], \n",
        "             train_set_resampled['converted'])"
      ]
    },
    {
      "cell_type": "markdown",
      "metadata": {
        "id": "ljGNgiTOh5Nk"
      },
      "source": [
        "### Predicting on test set"
      ]
    },
    {
      "cell_type": "code",
      "execution_count": 23,
      "metadata": {
        "id": "7ZnpjsIoh5Nk"
      },
      "outputs": [],
      "source": [
        "y_ada_pred = adaboost_clf.predict(test_set[X_features])"
      ]
    },
    {
      "cell_type": "code",
      "execution_count": 24,
      "metadata": {
        "id": "O4Fy67RMh5Nk"
      },
      "outputs": [],
      "source": [
        "from sklearn.metrics import roc_auc_score, plot_roc_curve\n",
        "from sklearn.metrics import confusion_matrix, ConfusionMatrixDisplay"
      ]
    },
    {
      "cell_type": "code",
      "execution_count": 25,
      "metadata": {
        "id": "7J72fLE0h5Nk"
      },
      "outputs": [],
      "source": [
        "cm_ada = confusion_matrix(test_set['converted'], y_ada_pred, labels = [1,0])"
      ]
    },
    {
      "cell_type": "code",
      "execution_count": 26,
      "metadata": {
        "colab": {
          "base_uri": "https://localhost:8080/",
          "height": 297
        },
        "id": "XlxvA9rRh5Nk",
        "outputId": "8ca00886-05a4-4078-e321-73cf957e8d22"
      },
      "outputs": [
        {
          "output_type": "execute_result",
          "data": {
            "text/plain": [
              "Text(33.0, 0.5, 'Actual')"
            ]
          },
          "metadata": {},
          "execution_count": 26
        },
        {
          "output_type": "display_data",
          "data": {
            "text/plain": [
              "<Figure size 432x288 with 2 Axes>"
            ],
            "image/png": "[encoded data removed]"
          },
          "metadata": {
            "needs_background": "light"
          }
        }
      ],
      "source": [
        "sn.heatmap(cm_ada,\n",
        "           fmt='.0f',\n",
        "           annot = True,\n",
        "           xticklabels = ['Converted', 'Not Converted'],\n",
        "           yticklabels = ['Converted', 'Not Converted'])\n",
        "plt.xlabel('Predicted')\n",
        "plt.ylabel('Actual')"
      ]
    },
    {
      "cell_type": "code",
      "execution_count": 27,
      "metadata": {
        "id": "FrV7eLC_h5Nl"
      },
      "outputs": [],
      "source": [
        "y_ada_pred_prob = adaboost_clf.predict_proba(test_set[X_features])"
      ]
    },
    {
      "cell_type": "code",
      "execution_count": 28,
      "metadata": {
        "id": "6-viJL3Eh5Nm"
      },
      "outputs": [],
      "source": [
        "auc_score = roc_auc_score(test_set['converted'], y_ada_pred_prob[:,1])"
      ]
    },
    {
      "cell_type": "code",
      "execution_count": 29,
      "metadata": {
        "colab": {
          "base_uri": "https://localhost:8080/"
        },
        "id": "MZgLio9dh5Nn",
        "outputId": "0b2e14d3-f3c7-4a64-83e5-ae22d2bb4efd"
      },
      "outputs": [
        {
          "output_type": "execute_result",
          "data": {
            "text/plain": [
              "0.7412476939082313"
            ]
          },
          "metadata": {},
          "execution_count": 29
        }
      ],
      "source": [
        "auc_score"
      ]
    },
    {
      "cell_type": "code",
      "execution_count": 30,
      "metadata": {
        "id": "SG7V56Clh5Nn"
      },
      "outputs": [],
      "source": [
        "from sklearn.metrics import precision_score"
      ]
    },
    {
      "cell_type": "code",
      "execution_count": 31,
      "metadata": {
        "scrolled": false,
        "colab": {
          "base_uri": "https://localhost:8080/"
        },
        "id": "KxAn1QIuh5Nn",
        "outputId": "ea060fbd-e552-47d4-df62-40e7bdde5e0a"
      },
      "outputs": [
        {
          "output_type": "execute_result",
          "data": {
            "text/plain": [
              "0.14492753623188406"
            ]
          },
          "metadata": {},
          "execution_count": 31
        }
      ],
      "source": [
        "precision_score(test_set['converted'], y_ada_pred)"
      ]
    },
    {
      "cell_type": "markdown",
      "metadata": {
        "id": "OUDiCRGFh5Nn"
      },
      "source": [
        "## Gradient Boosting\n",
        "\n",
        "### Building the Model"
      ]
    },
    {
      "cell_type": "code",
      "execution_count": 32,
      "metadata": {
        "id": "E8sCTrlHh5No"
      },
      "outputs": [],
      "source": [
        "from sklearn.ensemble import GradientBoostingClassifier"
      ]
    },
    {
      "cell_type": "code",
      "execution_count": 33,
      "metadata": {
        "id": "uMOoqcwfh5No"
      },
      "outputs": [],
      "source": [
        "gboost_clf = GradientBoostingClassifier(n_estimators=100,learning_rate = 0.1)"
      ]
    },
    {
      "cell_type": "code",
      "execution_count": 34,
      "metadata": {
        "colab": {
          "base_uri": "https://localhost:8080/"
        },
        "id": "kgDUiIqNh5No",
        "outputId": "769b44e1-878f-4b5b-fe24-89907b0e2927"
      },
      "outputs": [
        {
          "output_type": "execute_result",
          "data": {
            "text/plain": [
              "GradientBoostingClassifier()"
            ]
          },
          "metadata": {},
          "execution_count": 34
        }
      ],
      "source": [
        "gboost_clf.fit(train_set_resampled[X_features], \n",
        "             train_set_resampled['converted'])"
      ]
    },
    {
      "cell_type": "markdown",
      "metadata": {
        "id": "osWni4TGh5No"
      },
      "source": [
        "### Predicting on test set"
      ]
    },
    {
      "cell_type": "code",
      "execution_count": 35,
      "metadata": {
        "id": "Omgq5-nIh5No"
      },
      "outputs": [],
      "source": [
        "y_gb_pred = gboost_clf.predict(test_set[X_features])"
      ]
    },
    {
      "cell_type": "code",
      "execution_count": 36,
      "metadata": {
        "id": "CB9c8G_zh5No"
      },
      "outputs": [],
      "source": [
        "cm_gb = confusion_matrix(test_set['converted'], y_gb_pred, labels = [1,0])"
      ]
    },
    {
      "cell_type": "code",
      "execution_count": 37,
      "metadata": {
        "colab": {
          "base_uri": "https://localhost:8080/",
          "height": 297
        },
        "id": "S5thz9hXh5No",
        "outputId": "aec5be3c-b3c4-4967-9c61-d4153702883e"
      },
      "outputs": [
        {
          "output_type": "execute_result",
          "data": {
            "text/plain": [
              "Text(33.0, 0.5, 'Actual')"
            ]
          },
          "metadata": {},
          "execution_count": 37
        },
        {
          "output_type": "display_data",
          "data": {
            "text/plain": [
              "<Figure size 432x288 with 2 Axes>"
            ],
            "image/png": "[encoded data removed]"
          },
          "metadata": {
            "needs_background": "light"
          }
        }
      ],
      "source": [
        "sn.heatmap(cm_gb,\n",
        "           fmt='.0f',\n",
        "           annot = True,\n",
        "           xticklabels = ['Converted', 'Not Converted'],\n",
        "           yticklabels = ['Converted', 'Not Converted'])\n",
        "plt.xlabel('Predicted')\n",
        "plt.ylabel('Actual')"
      ]
    },
    {
      "cell_type": "code",
      "execution_count": 38,
      "metadata": {
        "id": "ANQc7Bnsh5Np"
      },
      "outputs": [],
      "source": [
        "y_gb_pred_prob = gboost_clf.predict_proba(test_set[X_features])"
      ]
    },
    {
      "cell_type": "code",
      "execution_count": 39,
      "metadata": {
        "id": "-aqV5oOnh5Np"
      },
      "outputs": [],
      "source": [
        "auc_score = roc_auc_score(test_set['converted'], y_gb_pred_prob[:,1])"
      ]
    },
    {
      "cell_type": "code",
      "execution_count": 40,
      "metadata": {
        "colab": {
          "base_uri": "https://localhost:8080/"
        },
        "id": "qvYBtk6Vh5Np",
        "outputId": "f42b9938-7596-4e4f-8841-10680803f054"
      },
      "outputs": [
        {
          "output_type": "execute_result",
          "data": {
            "text/plain": [
              "0.746354843483932"
            ]
          },
          "metadata": {},
          "execution_count": 40
        }
      ],
      "source": [
        "auc_score"
      ]
    },
    {
      "cell_type": "code",
      "execution_count": 41,
      "metadata": {
        "id": "xajKv_BTh5Np"
      },
      "outputs": [],
      "source": [
        "from sklearn.metrics import precision_score"
      ]
    },
    {
      "cell_type": "code",
      "execution_count": 42,
      "metadata": {
        "scrolled": false,
        "colab": {
          "base_uri": "https://localhost:8080/"
        },
        "id": "94y7Z6U_h5Np",
        "outputId": "3445ce94-d9b7-42e4-9794-ac1c3a5fb224"
      },
      "outputs": [
        {
          "output_type": "execute_result",
          "data": {
            "text/plain": [
              "0.14411882778000804"
            ]
          },
          "metadata": {},
          "execution_count": 42
        }
      ],
      "source": [
        "precision_score(test_set['converted'], y_gb_pred)"
      ]
    },
    {
      "cell_type": "markdown",
      "source": [
        "## XGBoost\n",
        "\n",
        "### Building the model"
      ],
      "metadata": {
        "id": "BATqQ-b-h-3g"
      }
    },
    {
      "cell_type": "code",
      "execution_count": 43,
      "metadata": {
        "id": "sv0Wepxuh5Nq"
      },
      "outputs": [],
      "source": [
        "from xgboost import XGBClassifier"
      ]
    },
    {
      "cell_type": "code",
      "execution_count": 44,
      "metadata": {
        "id": "U_agCiIPh5Nq"
      },
      "outputs": [],
      "source": [
        "params = { \"n_estimators\": 200,\n",
        "           \"max_depth\": 3,\n",
        "           \"objective\": 'binary:logistic' }\n",
        "\n",
        "xgb_clf = XGBClassifier(**params)"
      ]
    },
    {
      "cell_type": "code",
      "execution_count": 45,
      "metadata": {
        "colab": {
          "base_uri": "https://localhost:8080/"
        },
        "id": "TDdavBkwh5Nq",
        "outputId": "ea52db91-3d61-454e-fc83-f8dfa7c859af"
      },
      "outputs": [
        {
          "output_type": "execute_result",
          "data": {
            "text/plain": [
              "XGBClassifier(n_estimators=200)"
            ]
          },
          "metadata": {},
          "execution_count": 45
        }
      ],
      "source": [
        "xgb_clf.fit(train_set_resampled[X_features], \n",
        "            train_set_resampled['converted'])"
      ]
    },
    {
      "cell_type": "code",
      "execution_count": 46,
      "metadata": {
        "id": "MjsDiAjPh5Nq"
      },
      "outputs": [],
      "source": [
        "y_gb_pred = xgb_clf.predict(test_set[X_features])"
      ]
    },
    {
      "cell_type": "code",
      "execution_count": 47,
      "metadata": {
        "id": "DP17cC9-h5Nq"
      },
      "outputs": [],
      "source": [
        "cm_gb = confusion_matrix(test_set['converted'], y_gb_pred, labels = [1,0])"
      ]
    },
    {
      "cell_type": "code",
      "execution_count": 48,
      "metadata": {
        "colab": {
          "base_uri": "https://localhost:8080/",
          "height": 297
        },
        "id": "hYYDQH8Ah5Nq",
        "outputId": "9fbcf58a-e9f0-4c22-c782-924fb2cd4b05"
      },
      "outputs": [
        {
          "output_type": "execute_result",
          "data": {
            "text/plain": [
              "Text(33.0, 0.5, 'Actual')"
            ]
          },
          "metadata": {},
          "execution_count": 48
        },
        {
          "output_type": "display_data",
          "data": {
            "text/plain": [
              "<Figure size 432x288 with 2 Axes>"
            ],
            "image/png": "[encoded data removed]"
          },
          "metadata": {
            "needs_background": "light"
          }
        }
      ],
      "source": [
        "sn.heatmap(cm_gb,\n",
        "           fmt='.0f',\n",
        "           annot = True,\n",
        "           xticklabels = ['Converted', 'Not Converted'],\n",
        "           yticklabels = ['Converted', 'Not Converted'])\n",
        "plt.xlabel('Predicted')\n",
        "plt.ylabel('Actual')"
      ]
    },
    {
      "cell_type": "code",
      "source": [],
      "metadata": {
        "id": "_xu55TmpiBU4"
      },
      "execution_count": 48,
      "outputs": []
    }
  ],
  "metadata": {
    "kernelspec": {
      "display_name": "Python 3",
      "language": "python",
      "name": "python3"
    },
    "language_info": {
      "codemirror_mode": {
        "name": "ipython",
        "version": 3
      },
      "file_extension": ".py",
      "mimetype": "text/x-python",
      "name": "python",
      "nbconvert_exporter": "python",
      "pygments_lexer": "ipython3",
      "version": "3.8.3"
    },
    "colab": {
      "provenance": []
    }
  },
  "nbformat": 4,
  "nbformat_minor": 0
}